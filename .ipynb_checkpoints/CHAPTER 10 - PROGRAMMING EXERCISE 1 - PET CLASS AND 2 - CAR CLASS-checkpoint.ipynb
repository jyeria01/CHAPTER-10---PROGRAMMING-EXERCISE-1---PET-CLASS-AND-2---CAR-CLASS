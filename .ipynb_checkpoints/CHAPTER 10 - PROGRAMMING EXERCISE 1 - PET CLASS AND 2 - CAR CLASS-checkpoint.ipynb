{
 "cells": [
  {
   "cell_type": "markdown",
   "id": "b62b4aea",
   "metadata": {},
   "source": [
    "# PET CLASS - CHAPTER 10 PROGRAMMING EXERCISE 1"
   ]
  },
  {
   "cell_type": "code",
   "execution_count": 1,
   "id": "b1b6f0bc",
   "metadata": {},
   "outputs": [],
   "source": [
    "# Define Pet Class\n",
    "# Initialize pet attributes\n",
    "# Set the pet's name\n",
    "# Set the type of animal\n",
    "# Return the pet's name\n",
    "# Return animal type\n",
    "# Return pet's age\n",
    "# Main function\n",
    "# Create an object of the Pet class and ask user inputs\n",
    "# Dsiplay Pet's info\n",
    "# Call the main function"
   ]
  },
  {
   "cell_type": "code",
   "execution_count": 2,
   "id": "595a6eed",
   "metadata": {},
   "outputs": [
    {
     "name": "stdout",
     "output_type": "stream",
     "text": [
      "Enter the name of your pet: Prince\n",
      "Enter the type of pet (Example: Cat, Dog, Rabbit...): Dog\n",
      "Enter the age of your pet: 9\n",
      "Pet's information:\n",
      "Name: Prince\n",
      "Type Dog\n",
      "Age: 9\n"
     ]
    }
   ],
   "source": [
    "# Define Pet Class\n",
    "class Pet:\n",
    "    \n",
    "\n",
    "# Initialize pet attributes\n",
    "    def __init__(self, name, animal_type, age):\n",
    "        self.__name = name\n",
    "        self.__animal_type = animal_type\n",
    "        self.__age = int(age)\n",
    "\n",
    "# Set the pet's name\n",
    "    def set_name(self, name):\n",
    "        self.__name = name\n",
    "\n",
    "# Set the type of animal\n",
    "    def set__animal_type(self, animal_type):\n",
    "        self.__animal_type = animal_type\n",
    "\n",
    "# Set the the pet age\n",
    "    def set_age(self, age):\n",
    "        self.__age = int(age)\n",
    "    \n",
    "# Return the pet's name\n",
    "    def get_name(self):\n",
    "        return self.__name\n",
    "\n",
    "# Return animal type\n",
    "    def get_animal_type(self):\n",
    "        return self.__animal_type\n",
    "\n",
    "# Return pet's age\n",
    "    def get_age(self):\n",
    "        return self.__age\n",
    "    \n",
    "# Main function\n",
    "def main():\n",
    "    \n",
    "# Create an object of the Pet class and ask for user inputs\n",
    "    pet_name = input('Enter the name of your pet: ')\n",
    "    pet_type = input('Enter the type of pet (Example: Cat, Dog, Rabbit...): ')\n",
    "    pet_age = input('Enter the age of your pet: ')\n",
    "    \n",
    "    my_pet = Pet(pet_name, pet_type, pet_age)\n",
    "    pass\n",
    "\n",
    "# Dsiplay Pet's info\n",
    "    print(\"Pet's information:\")\n",
    "    print(f'Name: {my_pet.get_name()}')\n",
    "    print(f'Type {my_pet.get_animal_type()}')\n",
    "    print(f'Age: {my_pet.get_age()}')\n",
    "\n",
    "# Call the main function\n",
    "if __name__ == \"__main__\":\n",
    "    main()"
   ]
  },
  {
   "cell_type": "markdown",
   "id": "03a615e6",
   "metadata": {},
   "source": [
    "# PET CLASS MODULE"
   ]
  },
  {
   "cell_type": "code",
   "execution_count": 3,
   "id": "e9e1a7e4",
   "metadata": {},
   "outputs": [
    {
     "name": "stdout",
     "output_type": "stream",
     "text": [
      "Enter the name of your pet: Barkey\n",
      "Enter the type of pet (Example: Cat, Dog, Rabbit...): Dog\n",
      "Enter the age of your pet: 15\n",
      "Pet's information:\n",
      "Name: Barkey\n",
      "Type Dog\n",
      "Age: 15\n"
     ]
    }
   ],
   "source": [
    "from pet_module import Pet\n",
    "# Main function\n",
    "def main():\n",
    "    \n",
    "# Create an object of the Pet class and ask for user inputs\n",
    "    pet_name = input('Enter the name of your pet: ')\n",
    "    pet_type = input('Enter the type of pet (Example: Cat, Dog, Rabbit...): ')\n",
    "    pet_age = input('Enter the age of your pet: ')\n",
    "    \n",
    "    my_pet = Pet(pet_name, pet_type, pet_age)\n",
    "    pass\n",
    "\n",
    "# Dsiplay Pet's info\n",
    "    print(\"Pet's information:\")\n",
    "    print(f'Name: {my_pet.get_name()}')\n",
    "    print(f'Type {my_pet.get_animal_type()}')\n",
    "    print(f'Age: {my_pet.get_age()}')\n",
    "\n",
    "# Call the main function\n",
    "if __name__ == \"__main__\":\n",
    "    main()"
   ]
  },
  {
   "cell_type": "markdown",
   "id": "d6d30496",
   "metadata": {},
   "source": [
    "# CAR CLASS - CHAPTER 10 PROGRAMMING EXERCISE 2"
   ]
  },
  {
   "cell_type": "code",
   "execution_count": 4,
   "id": "28083122",
   "metadata": {},
   "outputs": [],
   "source": [
    "# Define Car Class\n",
    "# Initialize car attributes\n",
    "# Initialize car to 0\n",
    "# Increase car's speed by 5\n",
    "# Decrease car's speed by 5\n",
    "# Return the current speed\n",
    "# Main function\n",
    "# Create car object my_car\n",
    "# Accelerate and show current speed\n",
    "# Display speed after accel\n",
    "# Brake and dsiplay speed\n",
    "# Call the main function"
   ]
  },
  {
   "cell_type": "code",
   "execution_count": 8,
   "id": "662e7a03",
   "metadata": {},
   "outputs": [],
   "source": [
    "# Define car Class\n",
    "class Car:\n",
    "    def __init__(self, year_model, make):\n",
    "        # Initialize car attributes\n",
    "        self.__year_model = year_model\n",
    "        self.__make = make\n",
    "        # Initialize car to 0\n",
    "        self.__speed = 0\n",
    "\n",
    "    # Increase car's speed by 5\n",
    "    def accelerate(self):\n",
    "        self.__speed += 5\n",
    "\n",
    "    # Decrease car's speed by 5\n",
    "    def brake(self):\n",
    "        self.__speed -= 5\n",
    "\n",
    "    # Return the current speed\n",
    "    def get_speed(self):\n",
    "        return self.__speed\n",
    "    pass\n",
    "\n",
    "# Main function\n",
    "\n",
    "\n",
    "# Create car object my_car\n",
    "\n",
    "\n",
    "# Accelerate and show current speed\n",
    "\n",
    "\n",
    "# Display speed after accel\n",
    "\n",
    "\n",
    "# Brake and dsiplay speed\n",
    "\n",
    "\n",
    "# Call the main function\n"
   ]
  },
  {
   "cell_type": "code",
   "execution_count": null,
   "id": "1b4a06b4",
   "metadata": {},
   "outputs": [],
   "source": []
  }
 ],
 "metadata": {
  "kernelspec": {
   "display_name": "Python 3 (ipykernel)",
   "language": "python",
   "name": "python3"
  },
  "language_info": {
   "codemirror_mode": {
    "name": "ipython",
    "version": 3
   },
   "file_extension": ".py",
   "mimetype": "text/x-python",
   "name": "python",
   "nbconvert_exporter": "python",
   "pygments_lexer": "ipython3",
   "version": "3.11.4"
  }
 },
 "nbformat": 4,
 "nbformat_minor": 5
}
