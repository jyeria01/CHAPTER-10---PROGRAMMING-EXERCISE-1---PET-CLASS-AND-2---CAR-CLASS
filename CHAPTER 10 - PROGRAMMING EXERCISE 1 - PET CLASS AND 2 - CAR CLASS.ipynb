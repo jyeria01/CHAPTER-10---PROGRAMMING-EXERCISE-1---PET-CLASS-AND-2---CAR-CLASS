{
 "cells": [
  {
   "cell_type": "code",
   "execution_count": 1,
   "id": "b1b6f0bc",
   "metadata": {},
   "outputs": [],
   "source": [
    "# Define Pet Class\n",
    "# Initialize pet attributes\n",
    "# Set the pet's name\n",
    "# Set the type of animal\n",
    "# Return the pet's name\n",
    "# Return animal type\n",
    "# Return pet's age\n",
    "# Main function\n",
    "# Create an object of the Pet class and ask user inputs\n",
    "# Dsiplay Pet's info\n",
    "# Call the main function"
   ]
  },
  {
   "cell_type": "code",
   "execution_count": 9,
   "id": "595a6eed",
   "metadata": {},
   "outputs": [],
   "source": [
    "# Define Pet Class\n",
    "class Pet:\n",
    "    \n",
    "\n",
    "# Initialize pet attributes\n",
    "    def __init__(self, name, animal_type, age):\n",
    "        self.__name = name\n",
    "        self.__animal_type = animal_type\n",
    "        self.__age = int(age)\n",
    "\n",
    "# Set the pet's name\n",
    "    def set_name(self, name):\n",
    "        self.__name = name\n",
    "\n",
    "# Set the type of animal\n",
    "    def set__animal_type(self, animal_type):\n",
    "        self.__animal_type = animal_type\n",
    "\n",
    "# Set the the pet age\n",
    "    def set_age(self, age):\n",
    "        self.__age = int(age)\n",
    "    \n",
    "# Return the pet's name\n",
    "    def get_name(self):\n",
    "        return self.__name\n",
    "\n",
    "# Return animal type\n",
    "    def get_animal_type(self):\n",
    "        return self.__animal_type\n",
    "\n",
    "# Return pet's age\n",
    "    def get_age(self):\n",
    "        return self.__age\n",
    "    \n",
    "# Main function\n",
    "\n",
    "\n",
    "# Create an object of the Pet class and ask for user inputs\n",
    "\n",
    "\n",
    "# Dsiplay Pet's info\n",
    "\n",
    "\n",
    "# Call the main function"
   ]
  },
  {
   "cell_type": "code",
   "execution_count": null,
   "id": "a9d2f9f3",
   "metadata": {},
   "outputs": [],
   "source": []
  }
 ],
 "metadata": {
  "kernelspec": {
   "display_name": "Python 3 (ipykernel)",
   "language": "python",
   "name": "python3"
  },
  "language_info": {
   "codemirror_mode": {
    "name": "ipython",
    "version": 3
   },
   "file_extension": ".py",
   "mimetype": "text/x-python",
   "name": "python",
   "nbconvert_exporter": "python",
   "pygments_lexer": "ipython3",
   "version": "3.11.4"
  }
 },
 "nbformat": 4,
 "nbformat_minor": 5
}
