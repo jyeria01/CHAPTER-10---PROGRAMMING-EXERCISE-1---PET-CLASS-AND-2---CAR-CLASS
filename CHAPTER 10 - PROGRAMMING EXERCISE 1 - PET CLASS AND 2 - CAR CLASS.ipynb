{
 "cells": [
  {
   "cell_type": "code",
   "execution_count": 1,
   "id": "b1b6f0bc",
   "metadata": {},
   "outputs": [],
   "source": [
    "# Define Pet Class\n",
    "# Initialize pet attributes\n",
    "# Set the pet's name\n",
    "# Set the type of animal\n",
    "# Return the pet's name\n",
    "# Return animal type\n",
    "# Return pet's age\n",
    "# Main function\n",
    "# Create an object of the Pet class and ask user inputs\n",
    "# Dsiplay Pet's info\n",
    "# Call the main function"
   ]
  },
  {
   "cell_type": "code",
   "execution_count": 14,
   "id": "595a6eed",
   "metadata": {},
   "outputs": [
    {
     "name": "stdout",
     "output_type": "stream",
     "text": [
      "Enter the name of your pet: Barkey\n",
      "Enter the type of pet (Example: Cat, Dog, Rabbit...): Dog\n",
      "Enter the age of your pet: 13\n",
      "Pet's information:\n",
      "Name: Barkey\n",
      "Type Dog\n",
      "Age: 13\n"
     ]
    }
   ],
   "source": [
    "# Define Pet Class\n",
    "class Pet:\n",
    "    \n",
    "\n",
    "# Initialize pet attributes\n",
    "    def __init__(self, name, animal_type, age):\n",
    "        self.__name = name\n",
    "        self.__animal_type = animal_type\n",
    "        self.__age = int(age)\n",
    "\n",
    "# Set the pet's name\n",
    "    def set_name(self, name):\n",
    "        self.__name = name\n",
    "\n",
    "# Set the type of animal\n",
    "    def set__animal_type(self, animal_type):\n",
    "        self.__animal_type = animal_type\n",
    "\n",
    "# Set the the pet age\n",
    "    def set_age(self, age):\n",
    "        self.__age = int(age)\n",
    "    \n",
    "# Return the pet's name\n",
    "    def get_name(self):\n",
    "        return self.__name\n",
    "\n",
    "# Return animal type\n",
    "    def get_animal_type(self):\n",
    "        return self.__animal_type\n",
    "\n",
    "# Return pet's age\n",
    "    def get_age(self):\n",
    "        return self.__age\n",
    "    \n",
    "# Main function\n",
    "def main():\n",
    "    \n",
    "# Create an object of the Pet class and ask for user inputs\n",
    "    pet_name = input('Enter the name of your pet: ')\n",
    "    pet_type = input('Enter the type of pet (Example: Cat, Dog, Rabbit...): ')\n",
    "    pet_age = input('Enter the age of your pet: ')\n",
    "    \n",
    "    my_pet = Pet(pet_name, pet_type, pet_age)\n",
    "    pass\n",
    "\n",
    "# Dsiplay Pet's info\n",
    "    print(\"Pet's information:\")\n",
    "    print(f'Name: {my_pet.get_name()}')\n",
    "    print(f'Type {my_pet.get_animal_type()}')\n",
    "    print(f'Age: {my_pet.get_age()}')\n",
    "\n",
    "# Call the main function\n",
    "if __name__ == \"__main__\":\n",
    "    main()"
   ]
  },
  {
   "cell_type": "markdown",
   "id": "96ff1e8e",
   "metadata": {},
   "source": [
    "# PET CLASS MODULE"
   ]
  },
  {
   "cell_type": "code",
   "execution_count": 17,
   "id": "d5bf0390",
   "metadata": {},
   "outputs": [
    {
     "ename": "IndentationError",
     "evalue": "unexpected indent (pet_module.py, line 2)",
     "output_type": "error",
     "traceback": [
      "Traceback \u001b[1;36m(most recent call last)\u001b[0m:\n",
      "\u001b[0m  File \u001b[0;32m~\\AppData\\Local\\anaconda3\\Lib\\site-packages\\IPython\\core\\interactiveshell.py:3505\u001b[0m in \u001b[0;35mrun_code\u001b[0m\n    exec(code_obj, self.user_global_ns, self.user_ns)\u001b[0m\n",
      "\u001b[1;36m  Cell \u001b[1;32mIn[17], line 1\u001b[1;36m\n\u001b[1;33m    from pet_module import Pet\u001b[1;36m\n",
      "\u001b[1;36m  File \u001b[1;32m~\\Documents\\GitHub\\CHAPTER-10---PROGRAMMING-EXERCISE-1---PET-CLASS-AND-2---CAR-CLASS\\pet_module.py:2\u001b[1;36m\u001b[0m\n\u001b[1;33m    def __init__(self, name, animal_type, age):\u001b[0m\n\u001b[1;37m    ^\u001b[0m\n\u001b[1;31mIndentationError\u001b[0m\u001b[1;31m:\u001b[0m unexpected indent\n"
     ]
    }
   ],
   "source": [
    "from pet_module import Pet\n",
    "# Main function\n",
    "def main():\n",
    "    \n",
    "# Create an object of the Pet class and ask for user inputs\n",
    "    pet_name = input('Enter the name of your pet: ')\n",
    "    pet_type = input('Enter the type of pet (Example: Cat, Dog, Rabbit...): ')\n",
    "    pet_age = input('Enter the age of your pet: ')\n",
    "    \n",
    "    my_pet = Pet(pet_name, pet_type, pet_age)\n",
    "    pass\n",
    "\n",
    "# Dsiplay Pet's info\n",
    "    print(\"Pet's information:\")\n",
    "    print(f'Name: {my_pet.get_name()}')\n",
    "    print(f'Type {my_pet.get_animal_type()}')\n",
    "    print(f'Age: {my_pet.get_age()}')\n",
    "\n",
    "# Call the main function\n",
    "if __name__ == \"__main__\":\n",
    "    main()"
   ]
  },
  {
   "cell_type": "code",
   "execution_count": null,
   "id": "cb60f3ea",
   "metadata": {},
   "outputs": [],
   "source": []
  }
 ],
 "metadata": {
  "kernelspec": {
   "display_name": "Python 3 (ipykernel)",
   "language": "python",
   "name": "python3"
  },
  "language_info": {
   "codemirror_mode": {
    "name": "ipython",
    "version": 3
   },
   "file_extension": ".py",
   "mimetype": "text/x-python",
   "name": "python",
   "nbconvert_exporter": "python",
   "pygments_lexer": "ipython3",
   "version": "3.11.4"
  }
 },
 "nbformat": 4,
 "nbformat_minor": 5
}
