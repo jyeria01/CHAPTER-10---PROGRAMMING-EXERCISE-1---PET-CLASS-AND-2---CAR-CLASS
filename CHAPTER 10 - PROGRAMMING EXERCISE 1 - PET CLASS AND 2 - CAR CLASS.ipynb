{
 "cells": [
  {
   "cell_type": "code",
   "execution_count": 1,
   "id": "b1b6f0bc",
   "metadata": {},
   "outputs": [],
   "source": [
    "# Define Pet Class\n",
    "# Initialize pet attributes\n",
    "# Set the pet's name\n",
    "# Set the type of animal\n",
    "# Return the pet's name\n",
    "# Return animal type\n",
    "# Return pet's age\n",
    "# Main function\n",
    "# Create an object of the Pet class and ask user inputs\n",
    "# Dsiplay Pet's info\n",
    "# Call the main function"
   ]
  },
  {
   "cell_type": "code",
   "execution_count": null,
   "id": "595a6eed",
   "metadata": {},
   "outputs": [],
   "source": [
    "# Define Pet Class\n",
    "\n",
    "\n",
    "# Initialize pet attributes\n",
    "\n",
    "\n",
    "# Set the pet's name\n",
    "\n",
    "\n",
    "# Set the type of animal\n",
    "\n",
    "\n",
    "# Return the pet's name\n",
    "\n",
    "\n",
    "# Return animal type\n",
    "\n",
    "\n",
    "# Return pet's age\n",
    "\n",
    "\n",
    "# Main function\n",
    "\n",
    "\n",
    "# Create an object of the Pet class and ask for user inputs\n",
    "\n",
    "\n",
    "# Dsiplay Pet's info\n",
    "\n",
    "\n",
    "# Call the main function"
   ]
  }
 ],
 "metadata": {
  "kernelspec": {
   "display_name": "Python 3 (ipykernel)",
   "language": "python",
   "name": "python3"
  },
  "language_info": {
   "codemirror_mode": {
    "name": "ipython",
    "version": 3
   },
   "file_extension": ".py",
   "mimetype": "text/x-python",
   "name": "python",
   "nbconvert_exporter": "python",
   "pygments_lexer": "ipython3",
   "version": "3.11.4"
  }
 },
 "nbformat": 4,
 "nbformat_minor": 5
}
